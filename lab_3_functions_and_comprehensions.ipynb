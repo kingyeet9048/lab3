{
  "nbformat": 4,
  "nbformat_minor": 0,
  "metadata": {
    "anaconda-cloud": {},
    "kernelspec": {
      "display_name": "Python 3",
      "language": "python",
      "name": "python3"
    },
    "language_info": {
      "codemirror_mode": {
        "name": "ipython",
        "version": 3
      },
      "file_extension": ".py",
      "mimetype": "text/x-python",
      "name": "python",
      "nbconvert_exporter": "python",
      "pygments_lexer": "ipython3",
      "version": "3.7.2"
    },
    "colab": {
      "name": "lab_3_functions_and_comprehensions.ipynb",
      "provenance": [],
      "include_colab_link": true
    }
  },
  "cells": [
    {
      "cell_type": "markdown",
      "metadata": {
        "id": "view-in-github",
        "colab_type": "text"
      },
      "source": [
        "<a href=\"https://colab.research.google.com/github/kingyeet9048/lab3/blob/master/lab_3_functions_and_comprehensions.ipynb\" target=\"_parent\"><img src=\"https://colab.research.google.com/assets/colab-badge.svg\" alt=\"Open In Colab\"/></a>"
      ]
    },
    {
      "cell_type": "markdown",
      "metadata": {
        "id": "1dD3bXQoqqBV",
        "colab_type": "text"
      },
      "source": [
        "# Lab 3 - Function and List Comprehension Exercises\n",
        "\n",
        "Please complete each exercise and submit your work on D2L.\n",
        "\n",
        "**Rules:**\n",
        "\n",
        "1. All functions should be defined with `lambda` (only test functions should use `def` statements.)\n",
        "2. Each function should be accompanied by test function that covers normal and edge cases."
      ]
    },
    {
      "cell_type": "markdown",
      "metadata": {
        "id": "DMozzMbUqqBX",
        "colab_type": "text"
      },
      "source": [
        "### <font color='red'> Exercise 1 </font>\n",
        "\n",
        "Write a function `sum_of_squares` that computes the sum of the squares of the numbers in the input list. *Use a helper function in your solution*\n",
        "\n",
        "\n",
        "**Example** `sum_of_squares([2, 3, 4]) === 4 + 9 + 16`  **HINT:** Use a comprehension to square the values and `sum` to compute the sum."
      ]
    },
    {
      "cell_type": "code",
      "metadata": {
        "id": "XI3ty8sGqqBZ",
        "colab_type": "code",
        "colab": {}
      },
      "source": [
        "sum_of_squares = lambda list: sum([num**2 for num in list])\n",
        "\n",
        "def sum_of_squares_test():\n",
        "    assert sum_of_squares([2, 3, 4]) == 29\n",
        "    assert sum_of_squares([0, 1, 2]) == 5\n",
        "    assert sum_of_squares([10, 9, 8]) == 245\n",
        "sum_of_squares_test()"
      ],
      "execution_count": 16,
      "outputs": []
    },
    {
      "cell_type": "markdown",
      "metadata": {
        "id": "MtoOz9QSqqBf",
        "colab_type": "text"
      },
      "source": [
        "### <font color=\"red\"> Exercise 2 </font>\n",
        "\n",
        "Write a function called `sum_even` that sums up all the even numbers in a list.  Include helper functions in your solution.\n",
        "\n",
        "**Example** `sum_even([1,2,3,4]) == 6`\n",
        "\n",
        "**Hint** You need a filter here."
      ]
    },
    {
      "cell_type": "code",
      "metadata": {
        "id": "MIKgYKY9qqBh",
        "colab_type": "code",
        "colab": {}
      },
      "source": [
        "sum_even  = lambda list: sum([num if (num % 2 == 0) else 0 for num in list])\n",
        "\n",
        "def sum_even_test():\n",
        "    assert sum_even([1,2,3,4]) == 6\n",
        "    assert sum_even([0,1,2,3]) == 2\n",
        "    assert sum_even([2, 4, 6, 8]) == 20\n",
        "sum_even_test()"
      ],
      "execution_count": 29,
      "outputs": []
    },
    {
      "cell_type": "markdown",
      "metadata": {
        "id": "SZFDExkpqqBn",
        "colab_type": "text"
      },
      "source": [
        "### <font color=\"red\"> Exercise 3 </font>\n",
        "\n",
        "Write a function called `freq` that takes a value `a` and a list `L` as arguments and returns the number of times `a` occurs in `L`.\n",
        "\n",
        "**Example** `freq(1,[1,2,1,3,4]) == 2`\n",
        "\n",
        "**Hint** Use a filter in your comprehension and the `len` function"
      ]
    },
    {
      "cell_type": "code",
      "metadata": {
        "id": "bF8pzx3TqqBo",
        "colab_type": "code",
        "colab": {}
      },
      "source": [
        "freq = lambda a, L: sum([1 if (a == num) else 0 for num in L])\n",
        "\n",
        "def freq_test():\n",
        "    assert freq(1, [1,2,1,3,4]) == 2\n",
        "    assert freq(5, [5,5,5,5,5,5,5]) == 7\n",
        "freq_test()"
      ],
      "execution_count": 34,
      "outputs": []
    },
    {
      "cell_type": "markdown",
      "metadata": {
        "id": "tsDk2jcGqqBt",
        "colab_type": "text"
      },
      "source": [
        "### <font color=\"red\"> Exercise 4 </font>\n",
        "\n",
        "Write a function called `between` that takes value `a`, `b` and a list `L` as arguments and returns `True` when all of the elements of `L` that strictly between `a` and `b`.\n",
        "\n",
        "**Example** `between(0, 5,[1,2,1,3,4]) == True`\n",
        "\n",
        "**Hint** Use a boolean expresion and the `all` function."
      ]
    },
    {
      "cell_type": "markdown",
      "metadata": {
        "id": "x7YP14Bfw1qJ",
        "colab_type": "text"
      },
      "source": [
        ""
      ]
    },
    {
      "cell_type": "code",
      "metadata": {
        "id": "XGEc3O9mqqBu",
        "colab_type": "code",
        "colab": {}
      },
      "source": [
        "between = lambda a, b, L: all([True if (num > a and num < b) else False for num in L])\n",
        "\n",
        "def between_test():\n",
        "    assert between(1, 10, [2, 3, 4, 5, 6, 9]) == True\n",
        "    assert between(1, 3, [2]) == True\n",
        "    assert between(1, 10, [1, 3, 4, 5, 6, 10]) == False\n",
        "between_test()"
      ],
      "execution_count": 41,
      "outputs": []
    }
  ]
}